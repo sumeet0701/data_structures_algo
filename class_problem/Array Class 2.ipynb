{
 "cells": [
  {
   "cell_type": "markdown",
   "id": "77c27df8",
   "metadata": {},
   "source": [
    "# Question 1\n",
    "\n",
    "**Given an array nums containing n distinct numbers in the range [0, n], return the only number in the range that is missing from the array.**\n",
    "\n",
    "**Example 1:**\n",
    "**Input: nums = [3,0,1]**\n",
    "\n",
    "**Output: 2**\n",
    "**Explanation: n = 3 since there are 3 numbers, so all numbers are in the range [0,3]. 2 is the missing number in the range since it does not appear in nums.**\n",
    "\n",
    "**TC: O(n)**\n",
    "**SC: O (n)**\n",
    "\n",
    "</aside>"
   ]
  },
  {
   "cell_type": "code",
   "execution_count": 4,
   "id": "6d26ad52",
   "metadata": {},
   "outputs": [],
   "source": [
    "class solution:\n",
    "    def missing(self, number):\n",
    "        numSet = set(nums)\n",
    "        \n",
    "        exceptedNumCount = len(num)+1\n",
    "        for number in range(exceptedNumCount):\n",
    "            if number not in numSet:\n",
    "                return number\n",
    "        return -1"
   ]
  },
  {
   "cell_type": "markdown",
   "id": "87d4c86f",
   "metadata": {},
   "source": [
    "# Approch 2 :\n",
    "To find the missing number in an array `nums` containing `n` distinct numbers in the range [0, n], we can use the XOR operation. \n",
    "\n",
    "The basic idea is that XORing a number with itself results in 0, and XORing a number with 0 gives the number itself. If we XOR all the numbers in the array with all the numbers in the range [0, n], the result will be the missing number.\n",
    "\n",
    "Here's the step-by-step process to find the missing number:\n",
    "\n",
    "1. Initialize a variable `missing` to n because the range of numbers is [0, n], and the missing number will be in this range.\n",
    "2. Iterate over each number, `num`, in the `nums` array.\n",
    "   - XOR `missing` with `num`.\n",
    "   - XOR `missing` with the current index of the iteration.\n",
    "3. After the iteration, the `missing` variable will hold the missing number.\n",
    "\n"
   ]
  },
  {
   "cell_type": "code",
   "execution_count": 9,
   "id": "16682a66",
   "metadata": {},
   "outputs": [
    {
     "name": "stdout",
     "output_type": "stream",
     "text": [
      "2\n"
     ]
    }
   ],
   "source": [
    "\n",
    "def findMissingNum(number):\n",
    "    n = len(number)\n",
    "    missing = n # in we assume that n is missing\n",
    "    \n",
    "    for i, num in enumerate(number):\n",
    "        missing ^= num # appling Xor Oppeartion \n",
    "        missing ^= i\n",
    "    return missing\n",
    "nums = [3, 0, 1]\n",
    "missing_number = findMissingNum(nums)\n",
    "#missing_number1 = solution.missingNumber(number = nums)\n",
    "print(missing_number)  # Output: 2\n",
    "#print(missing_number1)\n"
   ]
  },
  {
   "cell_type": "markdown",
   "id": "844039a2",
   "metadata": {},
   "source": [
    "# Question 2\n",
    "<aside>\n",
    "💡\n",
    "\n",
    "**Given an array of intervals where intervals[i] = [starti, endi], merge all overlapping intervals, and return an array of the non-overlapping intervals that cover all the intervals in the input.**\n",
    "\n",
    "**Example 1:**\n",
    "\n",
    "**Input: intervals = [[1,3],[2,6],[8,10],[15,18]]**\n",
    "\n",
    "**Output: [[1,6],[8,10],[15,18]]**\n",
    "\n",
    "**Explanation: Since intervals [1,3] and [2,6] overlap, merge them into [1,6].**\n",
    "\n",
    "**Solution:**\n",
    "\n",
    "**TC : O(nlogn)**\n",
    "\n",
    "**SC : O (log n)**\n",
    "\n",
    "</aside>"
   ]
  },
  {
   "cell_type": "markdown",
   "id": "ec4834ee",
   "metadata": {},
   "source": [
    "# Approch 1:"
   ]
  },
  {
   "cell_type": "markdown",
   "id": "71099477",
   "metadata": {},
   "source": [
    "To merge overlapping intervals in an array of intervals, we can follow these steps:\n",
    "\n",
    "1. Sort the intervals based on their start times. This ensures that overlapping intervals are adjacent to each other.\n",
    "2. Create an empty result list to store the merged intervals.\n",
    "3. Iterate over the sorted intervals:\n",
    "   - If the result list is empty or the current interval does not overlap with the last interval in the result list, add the current interval to the result list.\n",
    "   - If the current interval overlaps with the last interval in the result list, update the end time of the last interval in the result list to be the maximum of the end times of the current and last intervals.\n",
    "4. After iterating through all intervals, the result list will contain the merged intervals.\n",
    "\n"
   ]
  },
  {
   "cell_type": "code",
   "execution_count": 15,
   "id": "46f5593d",
   "metadata": {},
   "outputs": [
    {
     "name": "stdout",
     "output_type": "stream",
     "text": [
      "[[1, 6], [8, 10], [15, 18]]\n"
     ]
    }
   ],
   "source": [
    "def mergeIntervals(intervals):\n",
    "    if not intervals:\n",
    "        return []\n",
    "    intervals.sort(key = lambda x: x[0])\n",
    "    result = [intervals[0]]\n",
    "    for interval in intervals[1:]:\n",
    "        if interval[0] <= result[-1][1]:\n",
    "            result[-1][-1] = max(result[-1][-1], interval[1])\n",
    "        else:\n",
    "            result.append(interval)\n",
    "    return result\n",
    "intervals = [[1, 3], [2, 6], [8, 10], [15, 18]]\n",
    "merged_intervals = mergeIntervals(intervals)\n",
    "print(merged_intervals)  # Output: [[1, 6], [8, 10], [15, 18]]\n"
   ]
  },
  {
   "cell_type": "markdown",
   "id": "6722985b",
   "metadata": {},
   "source": [
    "# Question 3\n",
    "**You are given two integer arrays nums1 and nums2, sorted in non-decreasing order, and two integers m and n, representing the number of elements in nums1 and nums2 respectively.**\n",
    "\n",
    "**Merge nums1 and nums2 into a single array sorted in non-decreasing order.**\n",
    "\n",
    "**The final sorted array should not be returned by the function, but instead be stored inside the array nums1. To accommodate this, nums1 has a length of m + n, where the first m elements denote the elements that should be merged, and the last n elements are set to 0 and should be ignored. nums2 has a length of n.**\n",
    "\n",
    "**Example 1:**\n",
    "\n",
    "**Input: nums1 = [1,2,3,0,0,0], m = 3, nums2 = [2,5,6], n = 3**\n",
    "\n",
    "**Output: [1,2,2,3,5,6]**\n",
    "\n",
    "**Explanation: The arrays we are merging are [1,2,3] and [2,5,6].**\n",
    "\n",
    "**The result of the merge is [1,2,2,3,5,6] with the underlined elements coming from nums1.**\n",
    "\n",
    "**Solution:**\n",
    "\n",
    "**TC : O(nlogn)**\n",
    "\n",
    "**SC : O(log n)**"
   ]
  },
  {
   "cell_type": "markdown",
   "id": "5a3c9c93",
   "metadata": {},
   "source": [
    "# Approach 1:\n",
    "To merge two sorted arrays, `nums1` and `nums2`, into a single array sorted in non-decreasing order, we can use the **two-pointer technique**. \n",
    "\n",
    "Here's the step-by-step process to merge the arrays:\n",
    "\n",
    "1. Initialize three pointers: `p1` pointing to the last non-zero element in `nums1` (index `m-1`), `p2` pointing to the last element in `nums2` (index `n-1`), and `p` pointing to the last position in `nums1` (index `m+n-1`).\n",
    "2. Iterate from `p` down to 0:\n",
    "   - If `p1` is greater than or equal to 0 and `nums1[p1]` is greater than `nums2[p2]`, set `nums1[p]` to `nums1[p1]` and decrement `p1` by 1.\n",
    "   - Otherwise, set `nums1[p]` to `nums2[p2]` and decrement `p2` by 1.\n",
    "3. Continue the iteration until `p2` becomes less than 0.\n",
    "4. After the iteration, the merged sorted array will be in `nums1`.\n",
    "The time complexity of this solution is O(m + n), where m is the length of `nums1` and n is the length of `nums2`. The algorithm iterates through both arrays once, performing constant-time operations for each element. Therefore, the time complexity is linear with respect to the total number of elements in `nums1` and `nums2`."
   ]
  },
  {
   "cell_type": "code",
   "execution_count": 17,
   "id": "114042ae",
   "metadata": {},
   "outputs": [
    {
     "name": "stdout",
     "output_type": "stream",
     "text": [
      "[1, 2, 2, 3, 5, 6]\n"
     ]
    }
   ],
   "source": [
    "def merge(num1, m, num2, n):\n",
    "    p1 = m-1\n",
    "    p2 = n-1\n",
    "    p = m+n-1\n",
    "    \n",
    "    while p2>=0:\n",
    "        if p1>=0 and (num1[p1] > num2[p2]):\n",
    "            num1[p] = num1[p1]\n",
    "            p1 -=1\n",
    "        else:\n",
    "            num1[p] = nums2[p2]\n",
    "            p2 -=1\n",
    "        p -=1 \n",
    "nums1 = [1, 2, 3, 0, 0, 0]\n",
    "m = 3\n",
    "nums2 = [2, 5, 6]\n",
    "n = 3\n",
    "merge(nums1, m, nums2, n)\n",
    "print(nums1)  # Output: [1, 2, 2, 3, 5, 6]\n"
   ]
  },
  {
   "cell_type": "markdown",
   "id": "09b810ba",
   "metadata": {},
   "source": [
    "# Question 4:\n",
    "**Given an array nums of size n, return the majority element.**\n",
    "\n",
    "**The majority element is the element that appears more than ⌊n / 2⌋ times. You may assume that the majority element always exists in the array.**\n",
    "\n",
    "**Example 1:**\n",
    "\n",
    "**Input: nums = [3,2,3]**\n",
    "\n",
    "**Output: 3**\n",
    "\n",
    "**Solution:**\n",
    "\n",
    "**TC: O(nlogn)**\n",
    "\n",
    "**SC : O(logn)**"
   ]
  },
  {
   "cell_type": "code",
   "execution_count": 19,
   "id": "5a847c7a",
   "metadata": {},
   "outputs": [
    {
     "name": "stdout",
     "output_type": "stream",
     "text": [
      "3\n"
     ]
    }
   ],
   "source": [
    "def majorityElement(nums):\n",
    "    nums.sort()\n",
    "    return nums[len(nums)//2]\n",
    "nums = [3, 2, 3]\n",
    "majority = majorityElement(nums)\n",
    "print(majority)  # Output: 3\n"
   ]
  },
  {
   "cell_type": "markdown",
   "id": "3244852b",
   "metadata": {},
   "source": [
    "# Question 5:\n",
    "**Given an array of integers nums containing n + 1 integers where each integer is in the range [1, n] inclusive.**\n",
    "\n",
    "**There is only one repeated number in nums, return this repeated number.**\n",
    "\n",
    "**You must solve the problem without modifying the array nums and uses only constant extra space.**\n",
    "\n",
    "**Example 1:**\n",
    "\n",
    "**Input: nums = [1,3,4,2,2]**\n",
    "\n",
    "**Output: 2**\n",
    "\n",
    "**TC : O(n)**\n",
    "\n",
    "**SC : O(n)**"
   ]
  },
  {
   "cell_type": "markdown",
   "id": "63775a0a",
   "metadata": {},
   "source": [
    "# Approch 1 : Floyd's Tortoise and Hare algorithm.\n",
    "To find the repeated number in the given array `nums`, we can use the cycle detection approach known as Floyd's Tortoise and Hare algorithm.\n",
    "\n",
    "Here's the step-by-step process to find the repeated number:\n",
    "\n",
    "1. Initialize two pointers, slow and fast, to the first element of the array.\n",
    "2. Move the slow pointer one step at a time, and the fast pointer two steps at a time, until they meet.\n",
    "   - This step is similar to finding a cycle in a linked list.\n",
    "3. Once the pointers meet, reset the slow pointer to the first element.\n",
    "4. Move both the slow and fast pointers one step at a time until they meet again.\n",
    "   - The point at which they meet again will be the start of the cycle, which corresponds to the repeated number in the array.\n",
    "The **time complexity** of this solution is **O(n)**, and the **space complexity is O(1)** since it only uses a constant amount of extra space for the pointers."
   ]
  },
  {
   "cell_type": "code",
   "execution_count": 22,
   "id": "0913eea3",
   "metadata": {},
   "outputs": [
    {
     "name": "stdout",
     "output_type": "stream",
     "text": [
      "2\n"
     ]
    }
   ],
   "source": [
    "def duplicate(nums):\n",
    "    slow = nums[0]\n",
    "    fast = nums[0]\n",
    "    \n",
    "    # moving the pointer until they meet\n",
    "    while True:\n",
    "        slow = nums[slow]\n",
    "        fast = nums[nums[fast]]\n",
    "        if slow == fast:\n",
    "            break\n",
    "    # reseting slow pointer to 1st element\n",
    "    slow = nums[0]\n",
    "    \n",
    "    # moving the pintere until the meet again\n",
    "    while slow != fast:\n",
    "        slow = nums[slow]\n",
    "        fast = nums[fast]\n",
    "    return slow\n",
    "nums = [1, 3, 4, 2, 2]\n",
    "repeated_number = duplicate(nums)\n",
    "print(repeated_number)  # Output: 2\n"
   ]
  },
  {
   "cell_type": "markdown",
   "id": "6cad464f",
   "metadata": {},
   "source": [
    "# Approch 2 : Hashmap:\n",
    "To solve the given problem using a hashmap, we can iterate through the array `nums`, count the frequency of each number using a hashmap, and return the number that appears more than once.\n",
    "\n",
    "Here's the step-by-step process:\n",
    "\n",
    "1. Initialize an empty hashmap, `count_map`.\n",
    "2. Iterate through each number, `num`, in the `nums` array:\n",
    "   - If `num` is not in the `count_map`, add it as a key with a value of 1.\n",
    "   - If `num` is already in the `count_map`, increment its corresponding value by 1.\n",
    "3. Iterate through the hashmap's keys:\n",
    "   - If the value of a key is greater than 1, return that key as the repeated number.\n",
    "\n",
    "The **time complexity** of this solution is **O(n)** since we iterate through the array once, and the **space complexity** is **O(n)** due to the hashmap, where n is the size of the array."
   ]
  },
  {
   "cell_type": "code",
   "execution_count": 24,
   "id": "eebbb6ed",
   "metadata": {},
   "outputs": [
    {
     "name": "stdout",
     "output_type": "stream",
     "text": [
      "2\n"
     ]
    }
   ],
   "source": [
    "def findDuplicate(nums):\n",
    "    count_map = {}\n",
    "    \n",
    "    for num in nums:\n",
    "        if num not in count_map:\n",
    "            count_map[num] = 1\n",
    "        else:\n",
    "            count_map[num] += 1\n",
    "    for key in count_map:\n",
    "        if count_map[key] > 1:\n",
    "            return  key\n",
    "\n",
    "nums = [1, 3, 4, 2, 2]\n",
    "repeated_number = findDuplicate(nums)\n",
    "print(repeated_number)  # Output: 2\n"
   ]
  },
  {
   "cell_type": "markdown",
   "id": "5aed89a7",
   "metadata": {},
   "source": [
    "# Approch 3: \"Set-based Duplicate Check\"\n",
    "\n",
    "1. Initialize an empty set, `seen`, to keep track of the seen numbers.\n",
    "2. Iterate through each number, `num`, in the `nums` array:\n",
    "   - Check if `num` is already in the `seen` set using the `in` operator.\n",
    "   - If `num` is in the `seen` set, it means it is a duplicate, so return `num` as the duplicate number.\n",
    "   - If `num` is not in the `seen` set, add it to the `seen` set using the `add()` method.\n",
    "3. If no duplicate is found during the iteration, return -1 as an indication that no duplicate exists.\n",
    "\n",
    "The **space complexity** is also **O(n)** because, in the worst case, all n elements of the `nums` array are distinct and need to be stored in the `seen` set."
   ]
  },
  {
   "cell_type": "code",
   "execution_count": 25,
   "id": "f3834f24",
   "metadata": {},
   "outputs": [],
   "source": [
    "class Solution:\n",
    "    def findDuplicate(self, nums):\n",
    "        seen = set()\n",
    "        for num in nums:\n",
    "            if num in seen:\n",
    "                return num\n",
    "            seen.add(num)\n",
    "        return -1"
   ]
  },
  {
   "cell_type": "markdown",
   "id": "93deb2d9",
   "metadata": {},
   "source": [
    "# Question 6:\n",
    "**There are many situations where we use integer values as index in array to see presence or absence. We can use bit manipulations to optimize space in such problems.**\n",
    "\n",
    "**Let us consider the below problem as an example.**\n",
    "\n",
    "**Given two numbers say a and b, mark the multiples of 2 and 5 between a and b and output each of the multiples.**\n",
    "\n",
    "**Note : We have to mark the multiples i.e save (key, value) pairs in memory such that each key either has a value as 1 or 0 representing a multiple of 2 or 5 or not respectively.**\n",
    "\n",
    "**Examples :**\n",
    "\n",
    "**Input : 2 10**\n",
    "\n",
    "**Output : 2 4 5 6 8 10**\n",
    "\n",
    "**Input: 60 95**\n",
    "\n",
    "**Output: 60 62 64 65 66 68 70 72 74 75 76 78**\n",
    "\n",
    "**80 82 84 85 86 88 90 92 94 95**\n",
    "\n",
    "**Solution:**\n",
    "\n",
    "**TC : O (n)**\n",
    "\n",
    "**SC : O(n)**"
   ]
  },
  {
   "cell_type": "code",
   "execution_count": null,
   "id": "e11a3593",
   "metadata": {},
   "outputs": [],
   "source": []
  }
 ],
 "metadata": {
  "kernelspec": {
   "display_name": "Python 3 (ipykernel)",
   "language": "python",
   "name": "python3"
  },
  "language_info": {
   "codemirror_mode": {
    "name": "ipython",
    "version": 3
   },
   "file_extension": ".py",
   "mimetype": "text/x-python",
   "name": "python",
   "nbconvert_exporter": "python",
   "pygments_lexer": "ipython3",
   "version": "3.9.7"
  }
 },
 "nbformat": 4,
 "nbformat_minor": 5
}
