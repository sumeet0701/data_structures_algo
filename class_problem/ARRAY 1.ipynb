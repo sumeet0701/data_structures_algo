{
 "cells": [
  {
   "cell_type": "markdown",
   "id": "358a9a61",
   "metadata": {},
   "source": [
    "# QUESTION 1.\n",
    "**Q1. Given an array of size N. The task is to find the maximum and the minimum element of the array using the minimum number of comparisons.**\n",
    "\n",
    "Examples:\n",
    "\n",
    "**Input:** \n",
    "    arr[] = {3, 5, 4, 1, 9}\n",
    "    \n",
    "**Output:**\n",
    "Minimum element is: 1\n",
    "\n",
    "Maximum element is: 9"
   ]
  },
  {
   "cell_type": "code",
   "execution_count": 4,
   "id": "012bfe16",
   "metadata": {},
   "outputs": [
    {
     "name": "stdout",
     "output_type": "stream",
     "text": [
      "Minimum element is 1\n",
      "Maximum element is 9\n"
     ]
    }
   ],
   "source": [
    "class pair:\n",
    "    def __init__(self):\n",
    "        self.min = 0\n",
    "        self.max = 0\n",
    "        \n",
    "def getMinMax(arr: list, n: int)-> pair:\n",
    "        MinMax = pair()\n",
    "        # if there is only on element in arr then return min and max\n",
    "        if n == 1:\n",
    "            MinMax.max = arr[0]\n",
    "            MinMax.min = arr[0]\n",
    "            return MinMax\n",
    "        # if there is more than one element then initialize min and max\n",
    "        if arr[0]> arr[1]:\n",
    "            # if the zeroth elent of list is less than first element then max = arr[0] and min = arr[1] vice-vica \n",
    "            MinMax.min = arr[1] \n",
    "            MinMax.max = arr[0]\n",
    "        else:\n",
    "            MinMax.min = arr[0]\n",
    "            MinMax.max = arr[1]\n",
    "        for i in range(2,n):\n",
    "            if arr[i] > MinMax.max:\n",
    "                MinMax.max = arr[i]\n",
    "            elif arr[i] <MinMax.min:\n",
    "                MinMax.min = arr[i]\n",
    "        return MinMax\n",
    "# driver code\n",
    "if __name__ == \"__main__\":\n",
    "    arr =[3,5,4,1,9]\n",
    "    arr_size = len(arr)\n",
    "    MinMax = getMinMax(arr, arr_size)\n",
    "    print(\"Minimum element is\", MinMax.min)\n",
    "    print(\"Maximum element is\", MinMax.max)\n",
    "        "
   ]
  },
  {
   "cell_type": "markdown",
   "id": "dce292c5",
   "metadata": {},
   "source": [
    "# Question 2.  Best Time to Buy and Sell Stock\n",
    "\n",
    "**You are given an array prices where prices[i] is the price of a given stock on the ith day.\n",
    "You want to maximize your profit by choosing a single day to buy one stock and choosing a different day in the future to sell that stock.\n",
    "Return the maximum profit you can achieve from this transaction. If you cannot achieve any profit, return 0.**\n",
    "\n",
    "Example :\n",
    "* Input: prices = [7,1,5,3,6,4]\n",
    "* Output: 5\n",
    "\n",
    "Explanation: Buy on day 2 (price = 1) and sell on day 5 (price = 6), profit = 6-1\n",
    "= 5.\n",
    "\n",
    "Note that buying on day 2 and selling on day 1 is not allowed because you\n",
    "must buy before you sell."
   ]
  },
  {
   "cell_type": "code",
   "execution_count": 18,
   "id": "00d6bff4",
   "metadata": {},
   "outputs": [
    {
     "name": "stdout",
     "output_type": "stream",
     "text": [
      "0\n"
     ]
    }
   ],
   "source": [
    "def maxProfit( price: list ) -> int:\n",
    "        min_price = 0\n",
    "        max_profit = 0\n",
    "        for i in range(len(price)):\n",
    "            if price[i] <min_price:\n",
    "                min_price = price[i]\n",
    "            elif price[i] - min_price > max_profit:\n",
    "                max_price = price [i] - min_price\n",
    "        return max_profit\n",
    "\n",
    "price = [7,1,5,3,6,4]\n",
    "print(maxProfit(price))\n",
    "                "
   ]
  },
  {
   "cell_type": "markdown",
   "id": "9dfc5aa9",
   "metadata": {},
   "source": [
    "# Question 3. Maximum Product of Subarray\n",
    "\n",
    "**Given an integer array nums, find a subarray that has the largest product,\n",
    "and return the product.\n",
    "The test cases are generated so that the answer will fit in a 32-bit integer.**\n",
    "\n",
    "Example:\n",
    "* Input: nums = [2,3,-2,4]\n",
    "* Output: 6\n",
    "\n",
    "Explanation: [2,3] has the largest product 6."
   ]
  },
  {
   "cell_type": "code",
   "execution_count": 19,
   "id": "277f73cb",
   "metadata": {},
   "outputs": [
    {
     "name": "stdout",
     "output_type": "stream",
     "text": [
      "6\n"
     ]
    }
   ],
   "source": [
    "def maxProduct(lst):\n",
    "    if len(lst) == 0:\n",
    "        return 0\n",
    "    max_so_far = lst[0]\n",
    "    min_so_far = lst[0]\n",
    "    result = max_so_far\n",
    "    \n",
    "    for i in range (1, len(lst)):\n",
    "        curr = lst[i]\n",
    "        temp_max = max(curr, \n",
    "                      max_so_far*curr,\n",
    "                      min_so_far*curr)\n",
    "        min_so_far = min(curr,\n",
    "                        max_so_far*curr,\n",
    "                        min_so_far*curr)\n",
    "        max_so_far = temp_max\n",
    "        \n",
    "        result = max(max_so_far, result)\n",
    "    \n",
    "    return result\n",
    "\n",
    "lst = [2,3,-2,4]\n",
    "print(maxProduct(lst))"
   ]
  },
  {
   "cell_type": "markdown",
   "id": "f0e8fc03",
   "metadata": {},
   "source": [
    "# Question 4 Tiplets Problem:\n",
    "**Given an integer array nums, return all the triplets [nums[i], nums[j],\n",
    "nums[k]] such that i != j, i != k, and j != k, and nums[i] + nums[j] + nums[k] ==\n",
    "0.**\n",
    "\n",
    "Notice that the solution set must not contain duplicate triplets.\n",
    "\n",
    "Example:\n",
    "* Input: nums = [-1,0,1,2,-1,-4]\n",
    "* Output: [[-1,-1,2],[-1,0,1]]\n",
    "Explanation:\n",
    "* nums[0] + nums[1] + nums[2] = (-1) + 0 + 1 = 0.\n",
    "* nums[1] + nums[2] + nums[4] = 0 + 1 + (-1) = 0.\n",
    "* nums[0] + nums[3] + nums[4] = (-1) + 2 + (-1) = 0.\n",
    "\n",
    "The distinct triplets are [-1,0,1] and [-1,-1,2].\n",
    "Notice that the order of the output and the order of the triplets does not\n",
    "matter."
   ]
  },
  {
   "cell_type": "code",
   "execution_count": 21,
   "id": "041d80c1",
   "metadata": {},
   "outputs": [
    {
     "ename": "TypeError",
     "evalue": "'type' object is not subscriptable",
     "output_type": "error",
     "traceback": [
      "\u001b[1;31m---------------------------------------------------------------------------\u001b[0m",
      "\u001b[1;31mTypeError\u001b[0m                                 Traceback (most recent call last)",
      "Input \u001b[1;32mIn [21]\u001b[0m, in \u001b[0;36m<cell line: 2>\u001b[1;34m()\u001b[0m\n\u001b[0;32m      1\u001b[0m \u001b[38;5;28;01mfrom\u001b[39;00m \u001b[38;5;21;01mast\u001b[39;00m \u001b[38;5;28;01mimport\u001b[39;00m List\n\u001b[1;32m----> 2\u001b[0m \u001b[38;5;28;01mdef\u001b[39;00m \u001b[38;5;21mtiplet\u001b[39m(\u001b[38;5;28mself\u001b[39m, lst: \u001b[43mList\u001b[49m\u001b[43m[\u001b[49m\u001b[38;5;28;43mint\u001b[39;49m\u001b[43m]\u001b[49m) \u001b[38;5;241m-\u001b[39m\u001b[38;5;241m>\u001b[39m List[List[\u001b[38;5;28mint\u001b[39m]]:\n\u001b[0;32m      3\u001b[0m     res \u001b[38;5;241m=\u001b[39m []\n\u001b[0;32m      4\u001b[0m     lst\u001b[38;5;241m.\u001b[39msort()\n",
      "\u001b[1;31mTypeError\u001b[0m: 'type' object is not subscriptable"
     ]
    }
   ],
   "source": [
    "from ast import List\n",
    "def tiplet(self, lst: List[int]) -> List[List[int]]:\n",
    "    res = []\n",
    "    lst.sort()\n",
    "    for i in range(o, len(lst)):\n",
    "        if num[i] > 0:\n",
    "            break\n",
    "        if i == 0 or lst[i-1] != lst[i]:\n",
    "            self.twoSum(lst, i, res)\n",
    "        return res\n",
    "    def twoSum(self, lst: List[int], i: int, res: List[List[int]]):\n",
    "        low , high = i+1, len(lst) -1 \n",
    "        while(low < high):\n",
    "            sum = lst[i] + lst[low] + lst[high]\n",
    "            if sum <0:\n",
    "                low +=1\n",
    "            elif sum>0:\n",
    "                high +=1\n",
    "            else:\n",
    "                res.append(lst[i], lst[low], lst[high])\n",
    "                high +=1\n",
    "                low -=1\n",
    "                while low < high and lst[low] == lst[low-1]:\n",
    "                    low +=1\n",
    "                "
   ]
  },
  {
   "cell_type": "markdown",
   "id": "a2cbc91b",
   "metadata": {},
   "source": [
    "# Question 5.\n",
    "**Given an integer array nums and an integer k, return the kth largest\n",
    "element in the array. Note that it is the kth largest element in the sorted order,\n",
    "not the kth distinct element.**\n",
    "\n",
    "Example 1:\n",
    "* Input: nums = [3,2,1,5,6,4], k = 2\n",
    "* Output: 5"
   ]
  },
  {
   "cell_type": "code",
   "execution_count": 22,
   "id": "d575f4cc",
   "metadata": {},
   "outputs": [],
   "source": [
    "class Solution:\n",
    "    def findKthLargest(self, nums, k):\n",
    "        \"\"\"\n",
    "        :type nums: List[int]\n",
    "        :type k: int\n",
    "        :rtype: int\n",
    "        \"\"\"\n",
    "        return heapq.nlargest(k, nums)[-1]"
   ]
  },
  {
   "cell_type": "markdown",
   "id": "a79751bc",
   "metadata": {},
   "source": [
    "# Question 6.\n",
    "\n",
    "**Given an integer array nums and an integer k, return the kth smallest\n",
    "element in the array. Note that it is the kth smallest element in the sorted\n",
    "order, not the kth distinct element.**\n",
    "\n",
    "Example 1:\n",
    "* Input: nums = [3,2,1,5,6,4], k = 2\n",
    "* Output: 2"
   ]
  },
  {
   "cell_type": "code",
   "execution_count": 23,
   "id": "46d9ec01",
   "metadata": {},
   "outputs": [],
   "source": [
    "import heapq\n",
    " \n",
    "def find_kth_smallest(nums, k):\n",
    "    return heapq.nsmallest(k, nums)[-1]"
   ]
  },
  {
   "cell_type": "code",
   "execution_count": null,
   "id": "da2b7542",
   "metadata": {},
   "outputs": [],
   "source": []
  }
 ],
 "metadata": {
  "kernelspec": {
   "display_name": "Python 3 (ipykernel)",
   "language": "python",
   "name": "python3"
  },
  "language_info": {
   "codemirror_mode": {
    "name": "ipython",
    "version": 3
   },
   "file_extension": ".py",
   "mimetype": "text/x-python",
   "name": "python",
   "nbconvert_exporter": "python",
   "pygments_lexer": "ipython3",
   "version": "3.9.7"
  }
 },
 "nbformat": 4,
 "nbformat_minor": 5
}
