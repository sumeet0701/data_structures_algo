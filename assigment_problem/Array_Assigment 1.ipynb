{
 "cells": [
  {
   "cell_type": "markdown",
   "id": "8a759a8c",
   "metadata": {},
   "source": [
    "# Question 1.\n",
    " Given an array of integers nums and an integer target, return indices of the two numbers such that they add up to target.\n",
    "\n",
    "You may assume that each input would have exactly one solution, and you may not use the same element twice.\n",
    "\n",
    "You can return the answer in any order.\n",
    "\n",
    "**Example:**\n",
    "Input: nums = [2,7,11,15], target = 9\n",
    "Output0 [0,1]\n",
    "\n",
    "**Explanation:** Because nums[0] + nums[1] == 9, we return [0, 1][\n",
    "\n",
    "</aside>"
   ]
  },
  {
   "cell_type": "code",
   "execution_count": 1,
   "id": "5bab3197",
   "metadata": {},
   "outputs": [
    {
     "name": "stdout",
     "output_type": "stream",
     "text": [
      "[0, 1]\n"
     ]
    }
   ],
   "source": [
    "def twoSum(nums, target):\n",
    "    num_dict = {}  # Dictionary to store elements and their indices\n",
    "    for i, num in enumerate(nums):\n",
    "        complement = target - num  # Calculate the complement\n",
    "        if complement in num_dict:\n",
    "            return [num_dict[complement], i]  # Return the indices if complement exists\n",
    "        num_dict[num] = i  # Store the element and its index in the dictionary\n",
    "    return []  # Return empty list if no solution is found\n",
    "\n",
    "# Example usage\n",
    "nums = [2, 7, 11, 15]\n",
    "target = 9\n",
    "result = twoSum(nums, target)\n",
    "print(result)  # Output: [0, 1]\n"
   ]
  },
  {
   "cell_type": "markdown",
   "id": "a73fa0f2",
   "metadata": {},
   "source": [
    "# Question 2.\n",
    "💡  **Given an integer array nums and an integer val, remove all occurrences of val in nums in-place. The order of the elements may be changed. Then return the number of elements in nums which are not equal to val.**\n",
    "\n",
    "Consider the number of elements in nums which are not equal to val be k, to get accepted, you need to do the following things:\n",
    "\n",
    "- Change the array nums such that the first k elements of nums contain the elements which are not equal to val. The remaining elements of nums are not important as well as the size of nums.\n",
    "- Return k.\n",
    "\n",
    "**Example :**\n",
    "Input: nums = [3,2,2,3], val = 3\n",
    "Output: 2, nums = [2,2,_*,_*]\n",
    "\n",
    "**Explanation:** Your function should return k = 2, with the first two elements of nums being 2. It does not matter what you leave beyond the returned k (hence they are underscores)"
   ]
  },
  {
   "cell_type": "markdown",
   "id": "57f3e5f2",
   "metadata": {},
   "source": [
    "# Approach of above Question\n",
    "**Two Pointer Solution**\n",
    "To solve this problem, you can use the Two-Pointers technique. Here's a step-by-step approach to implement it:\n",
    "\n",
    "1. Initialize two pointers, `i` and `j`, to 0. Pointer `i` will be used to iterate over the array, and pointer `j` will be used to track the position of the next element that is not equal to `val`.\n",
    "\n",
    "2. Iterate over the array using pointer `i` from 0 to the end of the array:\n",
    "   - If `nums[i]` is not equal to `val`, assign `nums[i]` to `nums[j]` and increment `j`.\n",
    "   - If `nums[i]` is equal to `val`, skip it and continue to the next iteration.\n",
    "\n",
    "3. After the iteration, `j` will be equal to the number of elements that are not equal to `val`. Return `j`.\n",
    "\n",
    "After removing all occurrences of `val` (3) from the array `nums`, we get `[2, 2, *, *]`. The first two elements are 2, and the remaining elements are not important. The function returns k = 2, indicating that there are 2 elements in `nums` that are not equal to `val`."
   ]
  },
  {
   "cell_type": "code",
   "execution_count": null,
   "id": "923acd84",
   "metadata": {},
   "outputs": [],
   "source": [
    "def removeElement(num, vals):\n",
    "    i = 0\n",
    "    j = 0\n",
    "    while i < len(num):\n",
    "        if num[i] != vals:\n",
    "            num[j] = num[i]\n",
    "            j=+1\n",
    "        i=+1\n",
    "    return j\n",
    "nums = [3,2,2,3] \n",
    "val = 3 \n",
    "k = removeElement(num = nums, vals = val)\n",
    "print(k)\n",
    "    "
   ]
  },
  {
   "cell_type": "markdown",
   "id": "4f77ca8a",
   "metadata": {},
   "source": [
    "# Question 3:\n",
    "<aside>\n",
    "💡 Given a sorted array of distinct integers and a target value, return the index if the target is found. If not, return the index where it would be if it were inserted in order.\n",
    "\n",
    "You must write an algorithm with O(log n) runtime complexity.\n",
    "\n",
    "**Example 1:**\n",
    "Input: nums = [1,3,5,6], target = 5\n",
    "\n",
    "Output: 2\n",
    "\n",
    "</aside>"
   ]
  },
  {
   "cell_type": "markdown",
   "id": "7fb37a96",
   "metadata": {},
   "source": [
    "# Approach -> Binary Search Aglorithm:\n",
    "To find the index of a target value in a sorted array or the index where it would be inserted, you can use a modified form of the binary search algorithm. This algorithm has a time complexity of O(log n). Here's a step-by-step approach to implement it:\n",
    "\n",
    "1. Initialize two pointers, `left` and `right`, to the start and end of the array, respectively.\n",
    "\n",
    "2. While `left` is less than or equal to `right`, do the following:\n",
    "   - Calculate the middle index as `mid` using the formula `mid = (left + right) // 2`.\n",
    "   - Compare the target value with the element at index `mid`:\n",
    "     - If they are equal, return `mid` as the index of the target value.\n",
    "     - If the target value is less than the element at index `mid`, update `right = mid - 1`.\n",
    "     - If the target value is greater than the element at index `mid`, update `left = mid + 1`.\n",
    "\n",
    "3. If the loop exits without finding the target value, return `left` as the index where it would be inserted.\n"
   ]
  },
  {
   "cell_type": "code",
   "execution_count": 5,
   "id": "acb6fbd2",
   "metadata": {},
   "outputs": [
    {
     "name": "stdout",
     "output_type": "stream",
     "text": [
      "Output: 2\n"
     ]
    }
   ],
   "source": [
    "def searchInsert(nums,traget):\n",
    "    # creating two pointer with inital values is zero(0)\n",
    "    left = 0 # starting index of array\n",
    "    right = len(nums) -1 # last index of array\n",
    "    \n",
    "    while left <= right:\n",
    "        mid = (left + right)//2 # middle index of array:\n",
    "        if nums[mid] == traget:\n",
    "            return mid\n",
    "        elif nums[mid] < traget:\n",
    "             left = mid + 1\n",
    "        else:\n",
    "             right = mid -1\n",
    "    return left\n",
    "nums = [1, 3, 5, 6]\n",
    "target = 5\n",
    "index = searchInsert(nums, target)\n",
    "print(\"Output:\", index)"
   ]
  },
  {
   "cell_type": "markdown",
   "id": "5d9a0cf7",
   "metadata": {},
   "source": [
    "# Question 4:\n",
    "<aside>\n",
    "💡 You are given a large integer represented as an integer array digits, where each digits[i] is the ith digit of the integer. The digits are ordered from most significant to least significant in left-to-right order. The large integer does not contain any leading 0's.\n",
    "\n",
    "Increment the large integer by one and return the resulting array of digits.\n",
    "\n",
    "**Example 1:**\n",
    "Input: digits = [1,2,3]\n",
    "Output: [1,2,4]\n",
    "\n",
    "**Explanation:** The array represents the integer 123.\n",
    "\n",
    "Incrementing by one gives 123 + 1 = 124.\n",
    "Thus, the result should be [1,2,4].\n",
    "\n",
    "</aside>"
   ]
  },
  {
   "cell_type": "markdown",
   "id": "06758f3b",
   "metadata": {},
   "source": [
    "# Approach\n",
    "To increment a large integer represented as an array of digits, you can perform the addition manually by simulating the carry-over process. Here's a step-by-step approach to implement it:\n",
    "\n",
    "1. Start from the least significant digit (the last element) of the array `digits`.\n",
    "\n",
    "2. Increment the value of the least significant digit by 1.\n",
    "\n",
    "3. Iterate through the array in reverse order, starting from the second last digit. For each digit, check if there is a carry-over from the previous addition:\n",
    "   - If there is no carry-over (digit + carry < 10), update the digit by adding the carry value and set the carry to 0.\n",
    "   - If there is a carry-over (digit + carry >= 10), set the digit to (digit + carry) % 10 and update the carry to 1.\n",
    "\n",
    "4. After the iteration, if there is still a carry value of 1, insert it as the most significant digit (at index 0) of the array.\n",
    "\n",
    "5. Return the updated array of digits.\n",
    "\n"
   ]
  },
  {
   "cell_type": "code",
   "execution_count": 10,
   "id": "225af08e",
   "metadata": {},
   "outputs": [
    {
     "name": "stdout",
     "output_type": "stream",
     "text": [
      "Output: [1, 2, 4]\n"
     ]
    }
   ],
   "source": [
    "def plusOne(digits):\n",
    "    n = len(digits)\n",
    "    carry = 1\n",
    "    for i in range(n - 1, -1, -1):\n",
    "        digit = digits[i] + carry\n",
    "        digits[i] = digit % 10\n",
    "        carry = digit // 10\n",
    "\n",
    "    if carry == 1:\n",
    "        digits.insert(0, 1)\n",
    "\n",
    "    return digits\n",
    "\n",
    "digits = [1, 2, 3]\n",
    "result = plusOne(digits)\n",
    "print(\"Output:\", result)\n"
   ]
  },
  {
   "cell_type": "markdown",
   "id": "0deebc75",
   "metadata": {},
   "source": [
    "# Question 5:\n",
    "<aside>\n",
    "💡  You are given two integer arrays nums1 and nums2, sorted in non-decreasing order, and two integers m and n, representing the number of elements in nums1 and nums2 respectively.\n",
    "\n",
    "Merge nums1 and nums2 into a single array sorted in non-decreasing order.\n",
    "\n",
    "The final sorted array should not be returned by the function, but instead be stored inside the array nums1. To accommodate this, nums1 has a length of m + n, where the first m elements denote the elements that should be merged, and the last n elements are set to 0 and should be ignored. nums2 has a length of n.\n",
    "\n",
    "**Example 1:**\n",
    "Input: nums1 = [1,2,3,0,0,0], m = 3, nums2 = [2,5,6], n = 3\n",
    "Output: [1,2,2,3,5,6]\n",
    "\n",
    "**Explanation:** The arrays we are merging are [1,2,3] and [2,5,6].\n",
    "The result of the merge is [1,2,2,3,5,6] with the underlined elements coming from nums1.\n",
    "\n",
    "</aside>"
   ]
  },
  {
   "cell_type": "markdown",
   "id": "4952fdf5",
   "metadata": {},
   "source": [
    "# Approach -> Three Pointers\n",
    "To merge two sorted arrays `nums1` and `nums2` into `nums1` in non-decreasing order, you can utilize a two-pointer approach. Here's a step-by-step approach to implement it:\n",
    "\n",
    "1. Initialize three pointers, `p1`, `p2`, and `p`:\n",
    "   - `p1` points to the last element of `nums1` that needs to be merged (at index `m - 1`).\n",
    "   - `p2` points to the last element of `nums2` (at index `n - 1`).\n",
    "   - `p` points to the last position in `nums1` (at index `m + n - 1`).\n",
    "\n",
    "2. While both `p1` and `p2` are greater than or equal to 0, do the following:\n",
    "   - Compare `nums1[p1]` and `nums2[p2]`.\n",
    "   - If `nums1[p1]` is greater than or equal to `nums2[p2]`, assign `nums1[p1]` to `nums1[p]`, and decrement `p1` and `p` by 1.\n",
    "   - If `nums1[p1]` is less than `nums2[p2]`, assign `nums2[p2]` to `nums1[p]`, and decrement `p2` and `p` by 1.\n",
    "\n",
    "3. After the above loop, if there are any remaining elements in `nums2`, copy them to the beginning of `nums1` starting from index 0 up to `p2 + 1`.\n"
   ]
  },
  {
   "cell_type": "code",
   "execution_count": 12,
   "id": "704a0887",
   "metadata": {},
   "outputs": [
    {
     "name": "stdout",
     "output_type": "stream",
     "text": [
      "Output: [1, 2, 2, 3, 5, 6]\n"
     ]
    }
   ],
   "source": [
    "def merge(nums1, m, nums2, n):\n",
    "    p1 = m - 1\n",
    "    p2 = n - 1\n",
    "    p = m + n - 1\n",
    "    while p1 >= 0 and p2 >= 0:\n",
    "        if nums1[p1] >= nums2[p2]:\n",
    "            nums1[p] = nums1[p1]\n",
    "            p1 -= 1\n",
    "        else:\n",
    "            nums1[p] = nums2[p2]\n",
    "            p2 -= 1\n",
    "        p -= 1\n",
    "    if p2 >= 0:\n",
    "        nums1[:p2 + 1] = nums2[:p2 + 1]\n",
    "    return nums1\n",
    "\n",
    "\n",
    "nums1 = [1, 2, 3, 0, 0, 0]\n",
    "m = 3\n",
    "nums2 = [2, 5, 6]\n",
    "n = 3\n",
    "result = merge(nums1, m, nums2, n)\n",
    "print(\"Output:\", result)\n",
    "    "
   ]
  },
  {
   "cell_type": "markdown",
   "id": "0d970951",
   "metadata": {},
   "source": [
    "# Question 6:\n",
    "<aside>\n",
    "💡 Given an integer array nums, return true if any value appears at least twice in the array, and return false if every element is distinct.\n",
    "\n",
    "**Example 1:**\n",
    "Input: nums = [1,2,3,1]\n",
    "\n",
    "Output: true\n",
    "\n",
    "</aside>"
   ]
  },
  {
   "cell_type": "markdown",
   "id": "ca375a53",
   "metadata": {},
   "source": [
    "# Approach 1 :\n",
    "using `set` Function \n",
    "* step 1: Converting list into set\n",
    "* step 2: Comparing the lenght of set and list if the length of list is greater than set it mean there is dupicate values is present else not present \n"
   ]
  },
  {
   "cell_type": "code",
   "execution_count": 15,
   "id": "e12a8c16",
   "metadata": {},
   "outputs": [
    {
     "name": "stdout",
     "output_type": "stream",
     "text": [
      "False\n"
     ]
    }
   ],
   "source": [
    "def checkRepeation(nums):\n",
    "    s = set(nums)\n",
    "    if len(s) < len(nums):\n",
    "        return True\n",
    "    else:\n",
    "        return False\n",
    "nums = [1,2,3]\n",
    "result = checkRepeation(nums)\n",
    "print(result)"
   ]
  },
  {
   "cell_type": "markdown",
   "id": "c86e95d5",
   "metadata": {},
   "source": [
    "# Approach 2:\n",
    "To determine if any value appears at least twice in an integer array `nums`, you can use a hash set to keep track of the unique elements encountered while iterating through the array. If an element is already present in the hash set, it means it has appeared before and the array contains a duplicate value. Here's the step-by-step approach to implement it:\n",
    "\n",
    "1. Initialize an empty hash set, `seen`.\n",
    "\n",
    "2. Iterate through each element, `num`, in the array `nums`.\n",
    "   - If `num` is already in the `seen` set, return `True` as there is a duplicate.\n",
    "   - Otherwise, add `num` to the `seen` set.\n",
    "\n",
    "3. If the loop completes without finding any duplicates, return `False`.\n"
   ]
  },
  {
   "cell_type": "code",
   "execution_count": 16,
   "id": "4acf4fb0",
   "metadata": {},
   "outputs": [
    {
     "name": "stdout",
     "output_type": "stream",
     "text": [
      "Output: True\n"
     ]
    }
   ],
   "source": [
    "def containsDuplicate(nums):\n",
    "    seen = set()\n",
    "    for num in nums:\n",
    "        if num in seen:\n",
    "            return True\n",
    "        seen.add(num)\n",
    "    return False\n",
    "nums = [1, 2, 3, 1]\n",
    "result = containsDuplicate(nums)\n",
    "print(\"Output:\", result)\n"
   ]
  },
  {
   "cell_type": "markdown",
   "id": "2928f3ab",
   "metadata": {},
   "source": [
    "# Question 7:\n",
    "<aside>\n",
    "💡 Given an integer array nums, move all 0's to the end of it while maintaining the relative order of the nonzero elements.\n",
    "\n",
    "Note that you must do this in-place without making a copy of the array.\n",
    "\n",
    "**Example 1:**\n",
    "Input: nums = [0,1,0,3,12]\n",
    "Output: [1,3,12,0,0]\n",
    "\n",
    "</aside>"
   ]
  },
  {
   "cell_type": "markdown",
   "id": "79799b93",
   "metadata": {},
   "source": [
    "# Approach :- Two Pointer\n",
    "To move all the zeros to the end of an integer array `nums` while maintaining the relative order of the nonzero elements, you can use a two-pointer approach. Here's a step-by-step approach to implement it:\n",
    "\n",
    "1. Initialize two pointers, `left` and `right`, both initially pointing to the start of the array.\n",
    "\n",
    "2. Iterate through the array using the `right` pointer:\n",
    "   - If `nums[right]` is not equal to 0, swap `nums[left]` and `nums[right]`, and increment both `left` and `right`.\n",
    "   - If `nums[right]` is equal to 0, only increment the `right` pointer.\n",
    "\n",
    "3. Continue the iteration until the `right` pointer reaches the end of the array.\n",
    "\n",
    "4. After the iteration, all the nonzero elements will be placed towards the left side of the array, and all the zeros will be towards the right side.\n"
   ]
  },
  {
   "cell_type": "code",
   "execution_count": 19,
   "id": "cce57a3e",
   "metadata": {},
   "outputs": [
    {
     "name": "stdout",
     "output_type": "stream",
     "text": [
      "Output: [1, 3, 12, 0, 0]\n"
     ]
    }
   ],
   "source": [
    "def moveZeroes(nums):\n",
    "    left = 0\n",
    "    right = 0\n",
    "\n",
    "    while right < len(nums):\n",
    "        if nums[right] != 0:\n",
    "            nums[left], nums[right] = nums[right], nums[left]\n",
    "            left += 1\n",
    "        right += 1\n",
    "nums = [0, 1, 0, 3, 12]\n",
    "moveZeroes(nums)\n",
    "print(\"Output:\", nums)\n"
   ]
  },
  {
   "cell_type": "markdown",
   "id": "9f199c50",
   "metadata": {},
   "source": [
    "# Question 8:\n",
    "<aside>\n",
    "💡 You have a set of integers s, which originally contains all the numbers from 1 to n. Unfortunately, due to some error, one of the numbers in s got duplicated to another number in the set, which results in repetition of one number and loss of another number.\n",
    "\n",
    "You are given an integer array nums representing the data status of this set after the error.\n",
    "\n",
    "Find the number that occurs twice and the number that is missing and return them in the form of an array.\n",
    "\n",
    "**Example 1:**\n",
    "Input: nums = [1,2,2,4]\n",
    "Output: [2,3]\n",
    "\n",
    "</aside>"
   ]
  },
  {
   "cell_type": "markdown",
   "id": "e3d5278d",
   "metadata": {},
   "source": [
    "# Approach:\n",
    "To find the number that occurs twice and the number that is missing in an integer array `nums`, we can utilize a set to keep track of the unique elements encountered. Here's a step-by-step approach to solving the problem:\n",
    "\n",
    "1. Initialize an empty set, `seen`, to keep track of unique elements.\n",
    "\n",
    "2. Initialize variables `duplicate` and `total` to store the number that occurs twice and the sum of numbers from 1 to n, respectively.\n",
    "\n",
    "3. Iterate through each element, `num`, in the `nums` array:\n",
    "   - If `num` is already in the `seen` set, assign `num` to `duplicate`.\n",
    "   - Add `num` to the `seen` set.\n",
    "   - Increment `total` by `num`.\n",
    "\n",
    "4. Calculate the expected sum of numbers from 1 to n using the formula `expected_sum = n * (n + 1) / 2`.\n",
    "\n",
    "5. Calculate the missing number by subtracting `total - duplicate` from the `expected_sum`.\n",
    "\n",
    "6. Return the array `[duplicate, missing]`, where `duplicate` is the number that occurs twice and `missing` is the number that is missing.\n"
   ]
  },
  {
   "cell_type": "code",
   "execution_count": 24,
   "id": "192a1416",
   "metadata": {},
   "outputs": [
    {
     "name": "stdout",
     "output_type": "stream",
     "text": [
      "Output: [2, 3]\n"
     ]
    }
   ],
   "source": [
    "def findErrorNums(nums):\n",
    "    seen = set()\n",
    "    n = len(nums)\n",
    "    duplicate = 0\n",
    "    total = 0\n",
    "    for num in nums:\n",
    "        if num in seen:\n",
    "            duplicate = num\n",
    "        seen.add(num)\n",
    "        total +=num\n",
    "        \n",
    "    expected_total = (n*(n+1))//2\n",
    "    missing_total = expected_total - (total -duplicate)\n",
    "    return [duplicate , missing_total]\n",
    "\n",
    "nums = [1, 2, 2, 4]\n",
    "result = findErrorNums(nums)\n",
    "print(\"Output:\", result)\n"
   ]
  },
  {
   "cell_type": "code",
   "execution_count": null,
   "id": "e2264266",
   "metadata": {},
   "outputs": [],
   "source": []
  }
 ],
 "metadata": {
  "kernelspec": {
   "display_name": "Python 3 (ipykernel)",
   "language": "python",
   "name": "python3"
  },
  "language_info": {
   "codemirror_mode": {
    "name": "ipython",
    "version": 3
   },
   "file_extension": ".py",
   "mimetype": "text/x-python",
   "name": "python",
   "nbconvert_exporter": "python",
   "pygments_lexer": "ipython3",
   "version": "3.9.7"
  }
 },
 "nbformat": 4,
 "nbformat_minor": 5
}
